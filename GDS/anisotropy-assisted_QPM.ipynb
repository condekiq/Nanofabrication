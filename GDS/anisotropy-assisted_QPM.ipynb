{
 "cells": [
  {
   "cell_type": "code",
   "execution_count": 1,
   "metadata": {},
   "outputs": [],
   "source": [
    "import gdspy\n",
    "import os\n",
    "import numpy as np\n",
    "import pandas as pd\n",
    "import matplotlib.pyplot as plt\n",
    "import scipy\n"
   ]
  },
  {
   "cell_type": "code",
   "execution_count": 2,
   "metadata": {},
   "outputs": [],
   "source": [
    "# The GDSII file is called a library, which contains multiple cells.\n",
    "lib = gdspy.GdsLibrary(unit=1e-6, precision=1e-9)\n",
    "\n",
    "# Geometry must be placed in cells.\n",
    "cell = lib.new_cell('anisotropy-assisted_QPM')\n",
    "\n",
    "tol = 0.0001 # This control how good circles/arcs really is\n",
    "fontsize = 10\n"
   ]
  },
  {
   "cell_type": "code",
   "execution_count": 3,
   "metadata": {
    "tags": []
   },
   "outputs": [
    {
     "name": "stdout",
     "output_type": "stream",
     "text": [
      "0: a1_Anisotropy-Assisted-QPM_Z-cut_t400nm_dk=1300000rad-m_w=750nm_Lambda=4.83322um_ds=25nm_a=0.05.dat\n",
      "1: a2_Anisotropy-Assisted-QPM_Z-cut_t400nm_dk=1300000rad-m_w=750nm_Lambda=4.83322um_ds=25nm_a=0.1.dat\n",
      "2: a3_Anisotropy-Assisted-QPM_Z-cut_t400nm_dk=1300000rad-m_w=750nm_Lambda=4.83322um_ds=25nm_a=0.15.dat\n",
      "3: a4_Anisotropy-Assisted-QPM_Z-cut_t400nm_dk=1300000rad-m_w=750nm_Lambda=4.83322um_ds=25nm_a=0.2.dat\n",
      "4: a5_Anisotropy-Assisted-QPM_Z-cut_t400nm_dk=1300000rad-m_w=750nm_Lambda=4.83322um_ds=25nm_a=0.25.dat\n",
      "5: b1_Anisotropy-Assisted-QPM_Z-cut_t400nm_dk=1325000rad-m_w=750nm_Lambda=4.74203um_ds=25nm_a=0.05.dat\n",
      "6: b2_Anisotropy-Assisted-QPM_Z-cut_t400nm_dk=1325000rad-m_w=750nm_Lambda=4.74203um_ds=25nm_a=0.1.dat\n",
      "7: b3_Anisotropy-Assisted-QPM_Z-cut_t400nm_dk=1325000rad-m_w=750nm_Lambda=4.74203um_ds=25nm_a=0.15.dat\n",
      "8: b4_Anisotropy-Assisted-QPM_Z-cut_t400nm_dk=1325000rad-m_w=750nm_Lambda=4.74203um_ds=25nm_a=0.2.dat\n",
      "9: b5_Anisotropy-Assisted-QPM_Z-cut_t400nm_dk=1325000rad-m_w=750nm_Lambda=4.74203um_ds=25nm_a=0.25.dat\n",
      "10: c1_Anisotropy-Assisted-QPM_Z-cut_t400nm_dk=1350000rad-m_w=750nm_Lambda=4.65421um_ds=25nm_a=0.05.dat\n",
      "11: c2_Anisotropy-Assisted-QPM_Z-cut_t400nm_dk=1350000rad-m_w=750nm_Lambda=4.65421um_ds=25nm_a=0.1.dat\n",
      "12: c3_Anisotropy-Assisted-QPM_Z-cut_t400nm_dk=1350000rad-m_w=750nm_Lambda=4.65421um_ds=25nm_a=0.15.dat\n",
      "13: c4_Anisotropy-Assisted-QPM_Z-cut_t400nm_dk=1350000rad-m_w=750nm_Lambda=4.65421um_ds=25nm_a=0.2.dat\n",
      "14: c5_Anisotropy-Assisted-QPM_Z-cut_t400nm_dk=1350000rad-m_w=750nm_Lambda=4.65421um_ds=25nm_a=0.25.dat\n",
      "15: d1_Anisotropy-Assisted-QPM_Z-cut_t400nm_dk=1375000rad-m_w=750nm_Lambda=4.56959um_ds=25nm_a=0.05.dat\n",
      "16: d2_Anisotropy-Assisted-QPM_Z-cut_t400nm_dk=1375000rad-m_w=750nm_Lambda=4.56959um_ds=25nm_a=0.1.dat\n",
      "17: d3_Anisotropy-Assisted-QPM_Z-cut_t400nm_dk=1375000rad-m_w=750nm_Lambda=4.56959um_ds=25nm_a=0.15.dat\n",
      "18: d4_Anisotropy-Assisted-QPM_Z-cut_t400nm_dk=1375000rad-m_w=750nm_Lambda=4.56959um_ds=25nm_a=0.2.dat\n",
      "19: d5_Anisotropy-Assisted-QPM_Z-cut_t400nm_dk=1375000rad-m_w=750nm_Lambda=4.56959um_ds=25nm_a=0.25.dat\n",
      "20: e1_Anisotropy-Assisted-QPM_Z-cut_t400nm_dk=1400000rad-m_w=750nm_Lambda=4.48799um_ds=25nm_a=0.05.dat\n",
      "21: e2_Anisotropy-Assisted-QPM_Z-cut_t400nm_dk=1400000rad-m_w=750nm_Lambda=4.48799um_ds=25nm_a=0.1.dat\n",
      "22: e3_Anisotropy-Assisted-QPM_Z-cut_t400nm_dk=1400000rad-m_w=750nm_Lambda=4.48799um_ds=25nm_a=0.15.dat\n",
      "23: e4_Anisotropy-Assisted-QPM_Z-cut_t400nm_dk=1400000rad-m_w=750nm_Lambda=4.48799um_ds=25nm_a=0.2.dat\n",
      "24: e5_Anisotropy-Assisted-QPM_Z-cut_t400nm_dk=1400000rad-m_w=750nm_Lambda=4.48799um_ds=25nm_a=0.25.dat\n",
      "25: f1_Anisotropy-Assisted-QPM_Z-cut_t400nm_dk=1425000rad-m_w=750nm_Lambda=4.40925um_ds=25nm_a=0.05.dat\n",
      "26: f2_Anisotropy-Assisted-QPM_Z-cut_t400nm_dk=1425000rad-m_w=750nm_Lambda=4.40925um_ds=25nm_a=0.1.dat\n",
      "27: f3_Anisotropy-Assisted-QPM_Z-cut_t400nm_dk=1425000rad-m_w=750nm_Lambda=4.40925um_ds=25nm_a=0.15.dat\n",
      "28: f4_Anisotropy-Assisted-QPM_Z-cut_t400nm_dk=1425000rad-m_w=750nm_Lambda=4.40925um_ds=25nm_a=0.2.dat\n",
      "29: f5_Anisotropy-Assisted-QPM_Z-cut_t400nm_dk=1425000rad-m_w=750nm_Lambda=4.40925um_ds=25nm_a=0.25.dat\n",
      "30: g1_Anisotropy-Assisted-QPM_Z-cut_t400nm_dk=1450000rad-m_w=750nm_Lambda=4.33323um_ds=25nm_a=0.05.dat\n",
      "31: g2_Anisotropy-Assisted-QPM_Z-cut_t400nm_dk=1450000rad-m_w=750nm_Lambda=4.33323um_ds=25nm_a=0.1.dat\n",
      "32: g3_Anisotropy-Assisted-QPM_Z-cut_t400nm_dk=1450000rad-m_w=750nm_Lambda=4.33323um_ds=25nm_a=0.15.dat\n",
      "33: g4_Anisotropy-Assisted-QPM_Z-cut_t400nm_dk=1450000rad-m_w=750nm_Lambda=4.33323um_ds=25nm_a=0.2.dat\n",
      "34: g5_Anisotropy-Assisted-QPM_Z-cut_t400nm_dk=1450000rad-m_w=750nm_Lambda=4.33323um_ds=25nm_a=0.25.dat\n",
      "35: h1_Anisotropy-Assisted-QPM_Z-cut_t400nm_dk=1475000rad-m_w=750nm_Lambda=4.25979um_ds=25nm_a=0.05.dat\n",
      "36: h2_Anisotropy-Assisted-QPM_Z-cut_t400nm_dk=1475000rad-m_w=750nm_Lambda=4.25979um_ds=25nm_a=0.1.dat\n",
      "37: h3_Anisotropy-Assisted-QPM_Z-cut_t400nm_dk=1475000rad-m_w=750nm_Lambda=4.25979um_ds=25nm_a=0.15.dat\n",
      "38: h4_Anisotropy-Assisted-QPM_Z-cut_t400nm_dk=1475000rad-m_w=750nm_Lambda=4.25979um_ds=25nm_a=0.2.dat\n",
      "39: h5_Anisotropy-Assisted-QPM_Z-cut_t400nm_dk=1475000rad-m_w=750nm_Lambda=4.25979um_ds=25nm_a=0.25.dat\n",
      "40: i1_Anisotropy-Assisted-QPM_Z-cut_t400nm_dk=1500000rad-m_w=750nm_Lambda=4.18879um_ds=25nm_a=0.05.dat\n",
      "41: i2_Anisotropy-Assisted-QPM_Z-cut_t400nm_dk=1500000rad-m_w=750nm_Lambda=4.18879um_ds=25nm_a=0.1.dat\n",
      "42: i3_Anisotropy-Assisted-QPM_Z-cut_t400nm_dk=1500000rad-m_w=750nm_Lambda=4.18879um_ds=25nm_a=0.15.dat\n",
      "43: i4_Anisotropy-Assisted-QPM_Z-cut_t400nm_dk=1500000rad-m_w=750nm_Lambda=4.18879um_ds=25nm_a=0.2.dat\n",
      "44: i5_Anisotropy-Assisted-QPM_Z-cut_t400nm_dk=1500000rad-m_w=750nm_Lambda=4.18879um_ds=25nm_a=0.25.dat\n"
     ]
    }
   ],
   "source": [
    "#directory = \"C:\\\\Users\\\\conde\\\\Desktop\"\n",
    "directory = \"C:\\\\Users\\\\conde\\\\Desktop\\\\My Archives\\\\Photonicamp\\\\Artigos Publicados\\\\Anisotropy-Assisted QPM\\\\Zcut_t600nm_w750nm_1550TE0-to-775TE1\"\n",
    "files_raw = os.listdir(directory)\n",
    "files = []\n",
    "\n",
    "# initialize counter\n",
    "counter = 0\n",
    "\n",
    "# iterate through files and check if file has extension .csv, .dat, or .txt\n",
    "for file in files_raw:\n",
    "    if file.endswith(\".csv\") or file.endswith(\".dat\") or file.endswith(\".txt\"):\n",
    "        print(f\"{counter}: {file}\")\n",
    "        files.append(file)\n",
    "        counter += 1\n",
    "        "
   ]
  },
  {
   "cell_type": "code",
   "execution_count": 4,
   "metadata": {
    "tags": []
   },
   "outputs": [],
   "source": [
    "# waveguide params\n",
    "t_waveguide = 0.6\n",
    "w_waveguide = 0.75\n",
    "r_waveguide = 100\n",
    "L_total = 3000\n",
    "N = 1\n",
    "#-------------\n",
    "\n",
    "# doses and names\n",
    "sample_number = \"CCR_AnisotropyQPM_004\"\n",
    "ebeam_brand = \"EL6\"\n",
    "ebeam_energy = 50 # in keV\n",
    "ebeam_dose = \"4x90=360\" # in uC/cm2\n",
    "ebeam_current = 2 # in nA\n",
    "field_size = 1000\n",
    "#-------------\n",
    "\n",
    "# aux inputs\n",
    "l_square = 10.0\n",
    "w_taper = 0.30\n",
    "#-------------\n",
    "\n",
    "# cells offsets\n",
    "Nx_offset = 0\n",
    "Ny_offset = 80\n",
    "\n",
    "x_global_offset = 0\n",
    "y_global_offset = 100\n",
    "#-------------\n",
    "\n",
    "# header offsets\n",
    "dx_header = -200\n",
    "dy_header = 25\n",
    "#-------------\n"
   ]
  },
  {
   "cell_type": "code",
   "execution_count": 5,
   "metadata": {
    "tags": []
   },
   "outputs": [
    {
     "data": {
      "text/plain": [
       "<gdspy.library.Cell at 0x2cee996bbe0>"
      ]
     },
     "execution_count": 5,
     "metadata": {},
     "output_type": "execute_result"
    }
   ],
   "source": [
    "df_delimiter = '\\t'\n",
    "df_header = 0\n",
    "header_layer = 200\n",
    "\n",
    "for j in range(N):\n",
    "    for i in range(len(files_raw)):\n",
    "        df = pd.read_csv(directory+\"\\\\\"+files[i], delimiter=df_delimiter, header=df_header)\n",
    "        a = float(files_raw[i].split(\"_\")[-1].split(\"=\")[1][:-4])\n",
    "        Λ = float(files_raw[i].split(\"_\")[-3].split(\"=\")[1][:-2])\n",
    "        \n",
    "        X0, Y0 = df[df.columns[0]].values, df[df.columns[1]].values\n",
    "        X0diff, Y0diff = np.max(X0)-np.min(X0), np.max(Y0)-np.min(Y0)\n",
    "        X, Y = X0, Y0\n",
    "        if a==1:\n",
    "            L_eff = L_total+150\n",
    "        else:\n",
    "            L_eff = L_total\n",
    "        for k in range(int(L_eff/Λ)):\n",
    "            X = np.concatenate((X, (X0 + (k+1)*X0diff)[1:]), axis=0)\n",
    "            Y = np.concatenate((Y, (Y0 + (k+1)*Y0diff)[1:]), axis=0)\n",
    "        X = np.sort(X)\n",
    "        Y = np.sort(Y)\n",
    "        curve = np.transpose(np.array([X,Y]))*10**6\n",
    "\n",
    "        Xfinal = curve[-1][0]\n",
    "        Yfinal = curve[-1][1]\n",
    "\n",
    "        dXfinal = (curve[-1]-curve[-2])[0]\n",
    "        dYfinal = (curve[-1]-curve[-2])[1]\n",
    "        θfinal = np.arctan(dYfinal/dXfinal)\n",
    "        \n",
    "        waveguide = gdspy.FlexPath(curve, w_waveguide, gdsii_path=True)\n",
    "        waveguide.turn(r_waveguide, -θfinal)\n",
    "        waveguide.segment((5400, Yfinal + r_waveguide*(1-np.cos(θfinal))))\n",
    "        waveguide.translate(i*Nx_offset+x_global_offset, i*Ny_offset+y_global_offset+(i//5)*100)\n",
    "        cell.add(waveguide)\n",
    "\n",
    "        waveguide_bottom = gdspy.FlexPath(np.flip(curve[:2], axis=0), w_waveguide, gdsii_path=True)\n",
    "        waveguide_bottom.turn(r_waveguide, -θfinal)\n",
    "        waveguide_bottom.segment((-2900, -r_waveguide*(1-np.cos(θfinal))))\n",
    "        waveguide_bottom.translate(i*Nx_offset+x_global_offset, i*Ny_offset+y_global_offset+(i//5)*100)\n",
    "        cell.add(waveguide_bottom)\n",
    "\n",
    "        header1 = \"a:\"+str(round(a, 3))+\"   \"\n",
    "        header2 = \"p:\"+str(round(Λ, 3))\n",
    "        header = gdspy.Text(header1+header2, fontsize, layer=header_layer)\n",
    "        header.translate(dx_header+x_global_offset, i*Ny_offset+dy_header+y_global_offset+(i//5)*100)\n",
    "        cell.add(header)\n",
    "\n",
    "header1 = sample_number+\"\\n\"\n",
    "header2 = \"Brand:\"+ebeam_brand+\"\\n\"\n",
    "header3 = \"Energy:\"+str(ebeam_energy)+\"keV \\n\"\n",
    "header4 = \"Current:\"+str(ebeam_current)+\"nA \\n\"\n",
    "header5 = \"Dose:\"+str(ebeam_dose)+\"uC/cm2 \\n\\n\"\n",
    "header6 = \"w:\"+str(round(w_waveguide, 3))+\"\\n\"\n",
    "header7 = \"t:\"+str(round(t_waveguide, 3))+\"\\n\"\n",
    "header8 = \"L:\"+str(round(L_total, 3))\n",
    "header_all = header1+header2+header3+header4+header5+header6+header7+header8\n",
    "header = gdspy.Text(header_all, fontsize, layer=header_layer)\n",
    "header.translate(-500+x_global_offset,4600+y_global_offset)\n",
    "cell.add(header)\n",
    "\n",
    "# axes\n",
    "material_axis = gdspy.Path(3, (-250+x_global_offset, 4500+100+y_global_offset))\n",
    "material_axis.segment(50, \"-y\", layer=header_layer)\n",
    "material_axis.arc(3, -np.pi, -np.pi/2, layer=header_layer)\n",
    "material_axis.segment(50, \"+x\", layer=header_layer)\n",
    "cell.add(material_axis)\n",
    "\n",
    "material_X_label = gdspy.Text(\"X\", fontsize, (50-250+x_global_offset, 4500+50+y_global_offset), layer=header_layer)\n",
    "cell.add(material_X_label)\n",
    "\n",
    "material_Y_label = gdspy.Text(\"Y\", fontsize, (0-250+x_global_offset, 4500+100+y_global_offset), layer=header_layer)\n",
    "cell.add(material_Y_label)\n",
    "\n",
    "brand = gdspy.Text(\"Z-cut\", fontsize, (50-250+x_global_offset, 4500+100+y_global_offset), layer=header_layer)\n",
    "cell.add(brand)\n",
    "\n"
   ]
  },
  {
   "cell_type": "code",
   "execution_count": 6,
   "metadata": {},
   "outputs": [],
   "source": [
    "for i in range(9):\n",
    "    for j in range(6):\n",
    "        field_cell = gdspy.Rectangle((0, 0), (field_size, field_size), layer=255)\n",
    "        field_cell.translate(i*field_size-3000, j*field_size)\n",
    "        cell.add(field_cell)\n",
    "        "
   ]
  },
  {
   "cell_type": "code",
   "execution_count": 7,
   "metadata": {},
   "outputs": [
    {
     "name": "stderr",
     "output_type": "stream",
     "text": [
      "C:\\Users\\conde\\AppData\\Local\\Temp\\ipykernel_13920\\173651073.py:2: UserWarning: [GDSPY] Paths with more than 8191 are not supported by the official GDSII specification.  This GDSII file might not be compatible with all readers.\n",
      "  lib.write_gds(sample_number+'.gds')\n"
     ]
    }
   ],
   "source": [
    "# Save the library in a file called 'first.gds'.\n",
    "lib.write_gds(sample_number+'.gds')\n"
   ]
  },
  {
   "cell_type": "code",
   "execution_count": null,
   "metadata": {},
   "outputs": [],
   "source": []
  },
  {
   "cell_type": "code",
   "execution_count": null,
   "metadata": {},
   "outputs": [],
   "source": []
  },
  {
   "cell_type": "code",
   "execution_count": null,
   "metadata": {},
   "outputs": [],
   "source": []
  },
  {
   "cell_type": "code",
   "execution_count": null,
   "metadata": {},
   "outputs": [],
   "source": []
  },
  {
   "cell_type": "code",
   "execution_count": null,
   "metadata": {},
   "outputs": [],
   "source": []
  }
 ],
 "metadata": {
  "kernelspec": {
   "display_name": "Python 3 (ipykernel)",
   "language": "python",
   "name": "python3"
  },
  "language_info": {
   "codemirror_mode": {
    "name": "ipython",
    "version": 3
   },
   "file_extension": ".py",
   "mimetype": "text/x-python",
   "name": "python",
   "nbconvert_exporter": "python",
   "pygments_lexer": "ipython3",
   "version": "3.9.16"
  }
 },
 "nbformat": 4,
 "nbformat_minor": 4
}
