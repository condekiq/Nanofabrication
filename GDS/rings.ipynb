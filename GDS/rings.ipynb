{
 "cells": [
  {
   "cell_type": "code",
   "execution_count": 1,
   "metadata": {},
   "outputs": [],
   "source": [
    "import gdspy\n",
    "import numpy as np\n"
   ]
  },
  {
   "cell_type": "code",
   "execution_count": 2,
   "metadata": {},
   "outputs": [],
   "source": [
    "# The GDSII file is called a library, which contains multiple cells.\n",
    "lib = gdspy.GdsLibrary(unit=1e-6, precision=1e-9)\n",
    "\n",
    "# Geometry must be placed in cells.\n",
    "cell = lib.new_cell('ring_dose_test')\n",
    "\n",
    "# Almost fixed params\n",
    "tol = 0.0001 # This control how good circles/arcs really is\n",
    "fontsize = 10\n"
   ]
  },
  {
   "cell_type": "code",
   "execution_count": 3,
   "metadata": {},
   "outputs": [],
   "source": [
    "# waveguide/microring inputs\n",
    "w_ring = np.linspace(0.5, 1.5, 5)\n",
    "r_ring = np.linspace(50, 150, 5)\n",
    "copies = 3\n",
    "#-------------\n",
    "\n",
    "# doses and names\n",
    "sample_number = \"CCR_Rings\"\n",
    "ebeam_brand = \"EL7\"\n",
    "ebeam_energy = 150 # in keV\n",
    "ebeam_dose = \"4x200=800\" # in uC/cm2\n",
    "ebeam_current = 1 # in nA\n",
    "field_size = 500\n",
    "cut = \"X\"\n",
    "#-------------\n"
   ]
  },
  {
   "cell_type": "code",
   "execution_count": 4,
   "metadata": {},
   "outputs": [],
   "source": [
    "for i in np.arange(len(w_ring)):\n",
    "    for j in np.arange(len(r_ring)):\n",
    "        ring_layer = 0\n",
    "        header_layer = 200\n",
    "\n",
    "        w = w_ring[i]\n",
    "        R = r_ring[j]\n",
    "        \n",
    "        if j==0:\n",
    "            x0 = 0\n",
    "        else:\n",
    "            x0 = x0+3*R\n",
    "        y0 = -i*3.5*np.max(r_ring)\n",
    "        \n",
    "        ring = gdspy.Round((x0, y0), R+w/2, inner_radius=R-w/2, tolerance=tol, layer=ring_layer)\n",
    "        cell.add(ring)\n",
    "                \n",
    "        header1 = \"R:\"+str(round(R, 3))+\"\\n\"\n",
    "        header2 = \"w:\"+str(round(w, 3))+\"\\n\"\n",
    "        header_all = header1+header2\n",
    "        header = gdspy.Text(header_all, fontsize, layer=header_layer)\n",
    "        header.translate(x0-30, y0-R-75)\n",
    "        cell.add(header)\n",
    "        "
   ]
  },
  {
   "cell_type": "code",
   "execution_count": 5,
   "metadata": {},
   "outputs": [],
   "source": [
    "# axes\n",
    "# material_axis = gdspy.Path(3, (-15, 510))\n",
    "# material_axis.segment(50, \"-y\", layer=header_layer)\n",
    "# material_axis.arc(3, -π, -π/2, layer=header_layer)\n",
    "# material_axis.segment(50, \"+x\", layer=header_layer)\n",
    "# cell.add(material_axis)\n",
    "\n",
    "# material_X_label = gdspy.Text(\"X\", fontsize, (35, 460), layer=header_layer)\n",
    "# cell.add(material_X_label)\n",
    "\n",
    "# material_Y_label = gdspy.Text(\"Y\", fontsize, (-15, 510), layer=header_layer)\n",
    "# cell.add(material_Y_label)\n",
    "\n",
    "# brand = gdspy.Text(\"Z-cut BSBS\", fontsize, (35, 510), layer=header_layer)\n",
    "# cell.add(brand)\n"
   ]
  },
  {
   "cell_type": "code",
   "execution_count": 6,
   "metadata": {},
   "outputs": [],
   "source": [
    "# Save the library in a file called 'first.gds'.\n",
    "lib.write_gds(sample_number+'.gds')\n"
   ]
  },
  {
   "cell_type": "code",
   "execution_count": null,
   "metadata": {},
   "outputs": [],
   "source": []
  },
  {
   "cell_type": "code",
   "execution_count": null,
   "metadata": {},
   "outputs": [],
   "source": []
  },
  {
   "cell_type": "code",
   "execution_count": null,
   "metadata": {},
   "outputs": [],
   "source": []
  },
  {
   "cell_type": "code",
   "execution_count": null,
   "metadata": {},
   "outputs": [],
   "source": []
  },
  {
   "cell_type": "code",
   "execution_count": null,
   "metadata": {},
   "outputs": [],
   "source": []
  },
  {
   "cell_type": "code",
   "execution_count": null,
   "metadata": {},
   "outputs": [],
   "source": []
  }
 ],
 "metadata": {
  "kernelspec": {
   "display_name": "Python 3 (ipykernel)",
   "language": "python",
   "name": "python3"
  },
  "language_info": {
   "codemirror_mode": {
    "name": "ipython",
    "version": 3
   },
   "file_extension": ".py",
   "mimetype": "text/x-python",
   "name": "python",
   "nbconvert_exporter": "python",
   "pygments_lexer": "ipython3",
   "version": "3.9.16"
  }
 },
 "nbformat": 4,
 "nbformat_minor": 4
}
